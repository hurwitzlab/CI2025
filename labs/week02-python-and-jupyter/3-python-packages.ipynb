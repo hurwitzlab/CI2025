{
  "cells": [
    {
      "cell_type": "markdown",
      "metadata": {},
      "source": [
        "# Python packages\n",
        "\n",
        "Python became very popular partly because of the thousands of packages\n",
        "available.  \n",
        "\n",
        "A \"package\" is a collection of Python code that you can use to\n",
        "accomplish certain tasks.  Packages can contain application programs,\n",
        "or libraries, or both.  A Python library is a collection of code that\n",
        "people can reuse when writing new applications or even other\n",
        "libraries.\n",
        "\n",
        "When you install Python, a set of libraries called the [Python\n",
        "standard library][stdlib] also gets installed.  Python is said to be a\n",
        "\"batteries included\" programming language, because its standard\n",
        "library is useful to accomplish many common tasks related to:\n",
        "\n",
        "- Working with text, math, time, dates, etc.;\n",
        "- Working with various data structures such as lists, sets, and\n",
        "  key-value pairs (also called dictionaries).\n",
        "- Reading and writing files;\n",
        "- Reading and writing data from networked systems;\n",
        "- Working with processes and threads;\n",
        "- Working with the operating system; \n",
        "- Debugging and profiling; and\n",
        "- Much more!\n",
        "\n",
        "[stdlib]: https://docs.python.org/3/library/index.html\n",
        "\n",
        "## Python modules\n",
        "\n",
        "When you write small programs, usually a single file can contain all\n",
        "the code you need to write.  But as the program grows or when you work\n",
        "on bigger projects, you will need to break down related components\n",
        "into separate files and organize them in a manner that makes sense to\n",
        "yourself and other people.\n",
        "\n",
        "Python libraries and programs are organized as _modules_, which is\n",
        "essentially a collection of files and directories.  An example package\n",
        "named `mypackage` (which is totally made-up, of course) could be\n",
        "organized like so:\n",
        "\n",
        "```\n",
        "mypackage/\n",
        "    __init__.py\n",
        "    module1.py\n",
        "    module2.py\n",
        "```\n",
        "\n",
        "<!-- real example: requests library, maybe? -->\n",
        "\n",
        "\n",
        "## Example: generating random numbers using `random` module\n",
        "\n",
        "Let us consider an example of generating random numbers using Python\n",
        "standard library.\n",
        "\n",
        "The first thing you have to do is tell Python you want to use a module\n",
        "called `random`:"
      ]
    },
    {
      "cell_type": "code",
      "metadata": {},
      "source": [
        "import random"
      ],
      "execution_count": null,
      "outputs": []
    },
    {
      "cell_type": "markdown",
      "metadata": {},
      "source": [
        "Now `random` is an example of a built-in module. Python comes with it\n",
        "when it's installed.  In order to generate random numbers, we can use\n",
        "the `random()` method from the `random` module:"
      ]
    },
    {
      "cell_type": "code",
      "metadata": {},
      "source": [
        "print(random.random())\n",
        "print(random.random())\n",
        "print(random.random())"
      ],
      "execution_count": null,
      "outputs": []
    },
    {
      "cell_type": "markdown",
      "metadata": {},
      "source": [
        "That generates random numbers between zero and one. There are plenty\n",
        "of other functions in the random package to do things like generate\n",
        "random integers between two values or to randomly shuffle the items in\n",
        "a list.\n",
        "\n",
        "## Installing new packages\n",
        "\n",
        "<!-- TODO: WRITEME -->\n",
        "\n",
        "### Python package index\n",
        "\n",
        "<!-- TODO: WRITEME -->\n",
        "\n",
        "### Conda\n",
        "\n",
        "<!-- TODO: WRITEME -->\n",
        "\n",
        "## An example: the numpy package\n",
        "\n",
        "The `math` module is part of the Python standard library.  It\n",
        "implements a routines to calculate few standard functions and some\n",
        "basic probability distributions.\n",
        "\n",
        "There are other packages that you would have to download to use. Let's\n",
        "look at an example very useful for scientific computing: numpy. \n",
        "\n",
        "Numpy is a package for making numerically-intensive programming easier\n",
        "and for making it run faster. It brings it's own datatype to the game:\n",
        "an actual array!  Numpy's arrays are quite fast -- substantially\n",
        "faster than Python's regular way of representing arrays as \"lists of\n",
        "lists\" (or in three dimensions, \"lists of lists of lists\" and so\n",
        "forth.\n",
        "\n",
        "First, let's tell Python we want to use numpy:"
      ]
    },
    {
      "cell_type": "code",
      "metadata": {},
      "source": [
        "import numpy as np"
      ],
      "execution_count": null,
      "outputs": []
    },
    {
      "cell_type": "markdown",
      "metadata": {},
      "source": [
        "The \"as np\" part lets us specify a *namespace*, in this case a nice,\n",
        "short name so we don't have to type out \"numpy\" *every single time*.\n",
        "\n",
        "The critical NumPy data type is the array.\n",
        "\n",
        "\"NumPy arrays are faster and more compact than Python lists. An array\n",
        "consumes less memory and is convenient to use.\"\n",
        "([source](https://numpy.org/doc/stable/user/absolute_beginners.html))\n",
        "The one caveat with NumPy arrays is that all the elements inside an\n",
        "array need to have the same data type (e.g. integer, float, double).\n",
        "\n",
        "Now we can create an array or two:"
      ]
    },
    {
      "cell_type": "code",
      "metadata": {},
      "source": [
        "a = np.array([[1,2,3,4], [5,6,7,8], [9,10,11,12]])"
      ],
      "execution_count": null,
      "outputs": []
    },
    {
      "cell_type": "markdown",
      "metadata": {},
      "source": [
        "The `array()` function will turn nested lists into an array.\n",
        "You can also make new arrays by asking for a zero array of a given size"
      ]
    },
    {
      "cell_type": "code",
      "metadata": {},
      "source": [
        "z = np.zeros(3)\n",
        "print(z)"
      ],
      "execution_count": null,
      "outputs": []
    },
    {
      "cell_type": "markdown",
      "metadata": {},
      "source": [
        "or ones:\n",
        "\n",
        "```python\n",
        "m = np.ones((3,3))\n",
        "```\n",
        "\n",
        "(note that the dimensions are given as a _tuple_).\n",
        "\n",
        "You can also element-wise add, subtract, or multiply:\n",
        "\n",
        "```python\n",
        "z + 3\n",
        "```\n",
        "\n",
        "Or\n",
        "\n",
        "```python\n",
        "a % 2\n",
        "```\n",
        "\n",
        "Comparisons are element wise\n",
        "\n",
        "```python\n",
        "a > 5\n",
        "```\n",
        "\n",
        "You can get the dimensions of an array with the `.shape()` method:\n",
        "\n",
        "```python\n",
        "m.shape()\n",
        "z.shape()\n",
        "```\n",
        "\n",
        "There are convenience functions to get information about the array:"
      ]
    },
    {
      "cell_type": "code",
      "metadata": {},
      "source": [
        "print(a.shape)"
      ],
      "execution_count": null,
      "outputs": []
    },
    {
      "cell_type": "code",
      "metadata": {},
      "source": [
        "print(z.shape)"
      ],
      "execution_count": null,
      "outputs": []
    },
    {
      "cell_type": "markdown",
      "metadata": {},
      "source": [
        "The \"shape\" property tells us how many elements there are in each dimension, and the number of values separated by commas tell use how many dimensions the array has.\n",
        "\n",
        "(OK, I lied. Shape returns a \"tuple\" that describes the array and we're printing that out. A tuple is like a list.)\n",
        "\n",
        "Let's do a little bit of linear algebra. We'll need to bring in the\n",
        "\"linalg\" part of numpy and we'll use the name \"nl\" as a shorthand."
      ]
    },
    {
      "cell_type": "code",
      "metadata": {},
      "source": [
        "k = np.array( [ [1,1,1], [1,1,0], [1,0,0] ] )\n",
        "\n",
        "import numpy.linalg as nl\n",
        "kinv = nl.inv(k)\n",
        "kinv"
      ],
      "execution_count": null,
      "outputs": []
    },
    {
      "cell_type": "markdown",
      "metadata": {},
      "source": [
        "Matrix multiplication, anyone? Python has the \"@\" operator for exactly\n",
        "that:"
      ]
    },
    {
      "cell_type": "code",
      "metadata": {},
      "source": [
        "k @ kinv"
      ],
      "execution_count": null,
      "outputs": []
    },
    {
      "cell_type": "markdown",
      "metadata": {},
      "source": [
        "For a complete list of operators, see:\n",
        "http://docs.python.org/library/operator.html#mapping-operators-to-functions\n",
        "\n",
        "### NumPy Linear Algebra\n",
        "\n",
        "NumPy has routines to do basic linear algebra, such as finding a\n",
        "matrix inverse, or solving a linear system.\n",
        "\n",
        "```python\n",
        "k = np.array([1,1,1], [1,1,0], [1,0,0])\n",
        "k\n",
        "```\n",
        "\n",
        "Inverses\n",
        "\n",
        "```python\n",
        "from numpy.linalg import nl\n",
        "kinv = nl.inv(k)\n",
        "kinv\n",
        "```\n",
        "\n",
        "And matrix multiplication\n",
        "\n",
        "```python\n",
        "k @ kinv\n",
        "```\n",
        "\n",
        "Matrix visualization:\n",
        "\n",
        "```python\n",
        "import matplotlib.pyplot as plt\n",
        "plt.matshow(a)\n",
        "```\n",
        "\n",
        "## Further steps\n",
        "\n",
        "We have only scratched the surface of what numpy can do. Imagine how\n",
        "much the other thousands of Python packages can do!  The nice thing\n",
        "about software development, when it's done correctly, is that pieces\n",
        "build on top of other pieces.\n",
        "\n",
        "The [SciPy] package, for instance, has modules for integration,\n",
        "differentiation, linear algebra, signal processing, image processing\n",
        "(which is special case of signal processing), and so on.  Lots of\n",
        "packages then build on top of SciPy.\n",
        "\n",
        "[SciPy]: https://scipy.org/"
      ]
    }
  ],
  "metadata": {
    "kernelspec": {
      "display_name": "Python 3",
      "language": "python",
      "name": "python3"
    }
  },
  "nbformat": 4,
  "nbformat_minor": 4
}
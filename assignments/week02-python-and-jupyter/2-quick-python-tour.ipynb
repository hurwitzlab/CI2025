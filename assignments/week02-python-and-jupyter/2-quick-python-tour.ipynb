{
 "cells": [
  {
   "cell_type": "markdown",
   "id": "0",
   "metadata": {},
   "source": [
    "# A Very Quick Tour of Python\n",
    "\n",
    "In this notebook, we'll look at some of the language features of python and how to use them. **This entire notebook assumes you have some programming experience already**. This might be in Java, Javascript, C, C++, or even (shudder) Fortran.\n",
    "\n",
    "Just kidding. I have *wonderful* memories of Fortran. And even today, if you absolutely need that last half a percent of efficiency, it's the way to go.\n",
    "\n",
    "In the **Introduction** notebook, we ran a print statement and did some basic arithmetic. Click in the next cell with the example code and press Shift+Enter to run it."
   ]
  },
  {
   "cell_type": "code",
   "execution_count": null,
   "id": "1",
   "metadata": {},
   "outputs": [],
   "source": [
    "prius_weight = 4000\n",
    "battery_weight = 150\n",
    "just_the_normal_car_weight = prius_weight - battery_weight\n",
    "\n",
    "print (\"If you took the battery out of a Prius it would weigh\", just_the_normal_car_weight, \"pounds.\")"
   ]
  },
  {
   "cell_type": "markdown",
   "id": "2",
   "metadata": {},
   "source": [
    "That code could be in almost any language - virtually all \"procedural programming\" languages overwhelmingly work the same way.\n",
    "\n",
    "Python has the arithmetic \"operators\" you expect:"
   ]
  },
  {
   "cell_type": "code",
   "execution_count": null,
   "id": "3",
   "metadata": {},
   "outputs": [],
   "source": [
    "sum = 4 + 2\n",
    "difference = 4 - 2\n",
    "product = 4 * 2\n",
    "thingie = 9 / 3\n",
    "\n",
    "print(sum, difference, product, thingie)"
   ]
  },
  {
   "cell_type": "markdown",
   "id": "4",
   "metadata": {},
   "source": [
    "There are also some other operators:"
   ]
  },
  {
   "cell_type": "code",
   "execution_count": null,
   "id": "5",
   "metadata": {},
   "outputs": [],
   "source": [
    "integer_division = 7 // 2\n",
    "remainder = 7 % 2\n",
    "big_number  = 9 ** 25\n",
    "\n",
    "print(integer_division, remainder, big_number)"
   ]
  },
  {
   "cell_type": "markdown",
   "id": "6",
   "metadata": {},
   "source": [
    "The two slashes next to each other mean \"divide this and ignore the remainder\". The percent sign says \"divide this and **only** give us the remainder.  Finally, two asterices mean \"evaluate the left side raised to the right side's power\".\n",
    "\n",
    "The standard order of operations that we learned in school still applies here. Exponentiation is done first, then the multiplications and divisions, and then finally the additions and subtractions.\n",
    "\n",
    "Within the same level, operators are evaluated left-to-right:"
   ]
  },
  {
   "cell_type": "code",
   "execution_count": null,
   "id": "7",
   "metadata": {},
   "outputs": [],
   "source": [
    "print(8 - 5 + 3)"
   ]
  },
  {
   "cell_type": "markdown",
   "id": "8",
   "metadata": {},
   "source": [
    "There is an exception, though. Exponentiation is done right-to-left"
   ]
  },
  {
   "cell_type": "code",
   "execution_count": null,
   "id": "9",
   "metadata": {},
   "outputs": [],
   "source": [
    "print(2 ** 3 ** 4)\n",
    "print(2 ** 81)"
   ]
  },
  {
   "cell_type": "markdown",
   "id": "10",
   "metadata": {},
   "source": [
    "Notice how big those numbers are?  Python (at least, all modern versions) represent integers with 64 bits. This will hold numbers from positive to negative 9 billion billon, give or take a little. If youb want to count the atoms in a micromole, knock yourself out.\n",
    "\n",
    "Parentheses work as expected for explicitly forcing a particular order of operations:"
   ]
  },
  {
   "cell_type": "code",
   "execution_count": null,
   "id": "11",
   "metadata": {},
   "outputs": [],
   "source": [
    "test_1 = 92\n",
    "test_2 = 90\n",
    "test_average = (test_1 + test_2) / 2\n",
    "print(test_average)"
   ]
  },
  {
   "cell_type": "markdown",
   "id": "12",
   "metadata": {},
   "source": [
    "We've been throwing those \"print\" function calls around without talking about them. Print will take any number of arguments, separated by commas, and print them out with one space between them. After the last item is printed, Python will put out a \"newline\" character, jump down, and get ready to start printing next time at the beginning of the next line."
   ]
  },
  {
   "cell_type": "markdown",
   "id": "13",
   "metadata": {},
   "source": [
    "Variables are named \"containers\" that hold data. We've seen variables used as integers and as real numbers (with a decimal point and some digits afterwards). Variables can also hold strings:\n",
    "\n",
    "Variables in Python work similarly to Javascript, if you're familiar with that language."
   ]
  },
  {
   "cell_type": "code",
   "execution_count": null,
   "id": "14",
   "metadata": {},
   "outputs": [],
   "source": [
    "first_part = \"super\"\n",
    "other_part = \"conducting\"\n",
    "sumpreme_coolness = first_part + other_part\n",
    "print(sumpreme_coolness)"
   ]
  },
  {
   "cell_type": "markdown",
   "id": "15",
   "metadata": {},
   "source": [
    "The \"+\" operator will concatenate (\"jam together\") two strings. Notice that it did not insert a space. If you need a space, you have to do it yourself."
   ]
  },
  {
   "cell_type": "code",
   "execution_count": null,
   "id": "16",
   "metadata": {},
   "outputs": [],
   "source": [
    "not_as_cool = first_part + \" \" + other_part\n",
    "print(not_as_cool)"
   ]
  },
  {
   "cell_type": "markdown",
   "id": "17",
   "metadata": {},
   "source": [
    "A couple of things to notice... First, there are three things being concatenated: a variable, a string \"literal\" with only a single space in it, and another variable. Second, when we evaluate a cell and create a variable in it, those variables become available to every cell further down the line. (If you're curious, there is one instance of Python running behind the scenes. Jupyter just crams code into when you execute a cell. When Python is done running that, any output is put into the notebook right below that block. Running another command later, in another cell, sends that code to the one and only Python instance associated with the entire notebook. There is no need to write insanely long cells, and in fact you should keep them 30-50 lines at most if you can. Shorter cells are easier to understand and debug.\n",
    "    "
   ]
  },
  {
   "cell_type": "markdown",
   "id": "18",
   "metadata": {},
   "source": [
    "Python has the same control structures you're used to, it's just that syntax is a little different now."
   ]
  },
  {
   "cell_type": "code",
   "execution_count": null,
   "id": "19",
   "metadata": {},
   "outputs": [],
   "source": [
    "if 5 > 4 :\n",
    "    print(\"arithmetic still works!\")\n",
    "    print(\"now back to the show!\")\n",
    "else:\n",
    "    print(\"it appears we have shifted universes for a few minutes.\")\n",
    "    print(\"I have a feeling this will be bad.\")"
   ]
  },
  {
   "cell_type": "markdown",
   "id": "20",
   "metadata": {},
   "source": [
    "Notice that there is no \"then\". Notice that there **is** a colon at the end of the \"if\" line. A colon indicates that a \"code block\" is coming up. In our case, these blocks are two lines long. They have to be indented, and they have to be indented the same amount. In Python, indentation has meaning. The \"visual\" level that things are indented to indicates the \"lexical\" level of the code block.\n"
   ]
  },
  {
   "cell_type": "markdown",
   "id": "21",
   "metadata": {},
   "source": [
    "Python has loops, as expected:"
   ]
  },
  {
   "cell_type": "code",
   "execution_count": null,
   "id": "22",
   "metadata": {},
   "outputs": [],
   "source": [
    "weight = 6.0\n",
    "\n",
    "while weight < 11.2:\n",
    "    print(\"running inside the loop!\")\n",
    "    weight = weight + 4\n",
    "\n",
    "print(\"done with the loop now.\")"
   ]
  },
  {
   "cell_type": "markdown",
   "id": "23",
   "metadata": {},
   "source": [
    "While loops are very versatile (you can test anything to see if you should continue) but sometimes you know how many times you want to do something and you want a \"cleaner\" way to express that."
   ]
  },
  {
   "cell_type": "code",
   "execution_count": null,
   "id": "24",
   "metadata": {},
   "outputs": [],
   "source": [
    "for i in range(1,6):\n",
    "    print(i)\n",
    "    \n",
    "if i == 5:\n",
    "    print(\"we got to 5, like we expected!! Surprise!!\")\n",
    "else:\n",
    "    print(\"hmmm...\")\n",
    "    "
   ]
  },
  {
   "cell_type": "markdown",
   "id": "25",
   "metadata": {},
   "source": [
    "Notice something funny above: when testing for equality, Phython uses two equals signs stuck together with no space between them. This is just like Java, Javascript, C, C++...\n",
    "\n",
    "Notice something else: we specified the range to be from one to... well, we said six, but it stopped after five. That's how range works: you specify the number to start at and the number that is the first one you want it to stop at **and not run the associated code block**. I guarantee you either you'll mess this up or you'll have to read code written by someone else that has that mistake. I do it all the time.\n",
    "\n",
    "While we're on the subject of \"equals sign strangeness\", Python has a shortcut for using the value of variable, changing it, and storing it back in the same variable."
   ]
  },
  {
   "cell_type": "code",
   "execution_count": null,
   "id": "26",
   "metadata": {},
   "outputs": [],
   "source": [
    "# you could do this\n",
    "weight = 6\n",
    "weight = weight + 4\n",
    "print(weight)\n",
    "# or you could do this\n",
    "weight = 6\n",
    "weight += 4\n",
    "print(weight)"
   ]
  },
  {
   "cell_type": "markdown",
   "id": "27",
   "metadata": {},
   "source": [
    "Along with the \"+=\" operator, there is also ``-=``, ``*=``, and ``/=``\n",
    "\n",
    "Hey, look at that line above... notice that little quoted parts of the code are in gray boxes?  Any part of your Markdown that occurs between two \"backquotes\" is shown specially.\n",
    "\n",
    "Also, did you notice the lines in the cell above that started with a \"#\"?  That character means \"everything on tghe rest of the line is just a note to myself and should not be run\". These \"comments\" are very valuable for reminding yourself what's going on when you come back to your code three months later and you can't remember anything.\n",
    "\n",
    "Back to \"for\" loops for a minute. These loops can also iterate over a list:"
   ]
  },
  {
   "cell_type": "code",
   "execution_count": null,
   "id": "28",
   "metadata": {},
   "outputs": [],
   "source": [
    "for color in [ \"red\", \"green\", \"blue\"] :\n",
    "              print(color)"
   ]
  },
  {
   "cell_type": "markdown",
   "id": "29",
   "metadata": {},
   "source": [
    "In fact, the \"range\" function is used to build a list of values and then the ``for`` loop steps over it.\n",
    "\n",
    "(Don't worry - I lied. But conceptually that's what happens. Behind the scenes, Python detects when a for loop is stepping through a range function and it behaves like Java or C - nice and efficiently.)\n",
    "\n",
    "\n",
    "That list of colors is interesting, isn't it? Besides integers, real numbers, and strings, Python has some other built-in data types. One of these is the list.\n",
    "\n",
    "When writing out a list, surround it with square brackets (as above). Separate the individual list items with commas. Notice something cool (or dangerous, depending on your point of view: lists don't have to contain just all one type of data. You can mix them in the same list:"
   ]
  },
  {
   "cell_type": "code",
   "execution_count": null,
   "id": "30",
   "metadata": {},
   "outputs": [],
   "source": [
    "funny_stuff = [13, 19, 44, \"Bob Hope\", 16]"
   ]
  },
  {
   "cell_type": "markdown",
   "id": "31",
   "metadata": {},
   "source": [
    "That is a list of 5 things: three numbers, a string, and one more number.  We can access individual elements with \"array indexing\":"
   ]
  },
  {
   "cell_type": "code",
   "execution_count": null,
   "id": "32",
   "metadata": {},
   "outputs": [],
   "source": [
    "print(funny_stuff[0])\n",
    "print(funny_stuff[1])\n",
    "print(funny_stuff[2])\n",
    "print(funny_stuff[3])\n",
    "print(funny_stuff[4])"
   ]
  },
  {
   "cell_type": "markdown",
   "id": "33",
   "metadata": {},
   "source": [
    "Like basically every language except Fortran, Python lists store their first value at index zero, not one! This trips up everyone sooner or later. Sometimes miore than once. Sometimes more than once a minute.\n",
    "\n",
    "Now you know just enough Python to be dangerous. An excellent tutorial on the language is available at https://docs.python.org/3/tutorial/index.html and I recommend you bookmark that for handy reference.\n",
    "\n",
    "Now that we're at least a threat to ourselves, if not others, let's go to the \"Modules\" notebook and see why Python has taken over the world."
   ]
  }
 ],
 "metadata": {
  "kernelspec": {
   "display_name": "Python 3 (ipykernel)",
   "language": "python",
   "name": "python3"
  }
 },
 "nbformat": 4,
 "nbformat_minor": 5
}

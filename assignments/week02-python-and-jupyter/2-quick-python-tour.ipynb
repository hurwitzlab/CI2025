{
  "cells": [
    {
      "cell_type": "markdown",
      "metadata": {},
      "source": [
        "# A Very Quick Tour of Python\n",
        "\n",
        "In this notebook, we'll look at some of the language features of\n",
        "python and how to use them.  Some prior programming experience might\n",
        "be useful here, with Java, Javascript, C, C++, or Python.\n",
        "\n",
        "In the [previous notebook](./1-introduction.ipynb), we ran a print\n",
        "statement and did some basic arithmetic, and that was our first steps\n",
        "with running some Python code in Jupyter.\n",
        "\n",
        "Click in the next cell with the example code and press Shift+Enter to\n",
        "run it."
      ]
    },
    {
      "cell_type": "code",
      "metadata": {},
      "source": [
        "prius_weight = 4000\n",
        "battery_weight = 150\n",
        "just_the_normal_car_weight = prius_weight - battery_weight\n",
        "\n",
        "print (\"If you took the battery out of a Prius it would weigh\", just_the_normal_car_weight, \"pounds.\")"
      ],
      "execution_count": null,
      "outputs": []
    },
    {
      "cell_type": "markdown",
      "metadata": {},
      "source": [
        "It should be obvious what the code above does.  Python has all the\n",
        "usual arithmetic \"operators\" you would expect:"
      ]
    },
    {
      "cell_type": "code",
      "metadata": {},
      "source": [
        "sum = 4 + 2\n",
        "difference = 4 - 2\n",
        "product = 4 * 2\n",
        "thingie = 9 / 3\n",
        "\n",
        "print(sum, difference, product, thingie)"
      ],
      "execution_count": null,
      "outputs": []
    },
    {
      "cell_type": "markdown",
      "metadata": {},
      "source": [
        "There are also some other operators:"
      ]
    },
    {
      "cell_type": "code",
      "metadata": {},
      "source": [
        "integer_division = 7 // 2\n",
        "remainder = 7 % 2\n",
        "big_number  = 9 ** 25\n",
        "\n",
        "print(integer_division, remainder, big_number)"
      ],
      "execution_count": null,
      "outputs": []
    },
    {
      "cell_type": "markdown",
      "metadata": {},
      "source": [
        "The two slashes next to each other mean \"divide this and ignore the\n",
        "remainder\". The percent sign says \"divide this and **only** give us\n",
        "the remainder.  Finally, two asterices mean \"evaluate the left side\n",
        "raised to the right side's power\".\n",
        "\n",
        "The standard order of operations that we learned in school still\n",
        "applies here. Exponentiation is done first, then the multiplications\n",
        "and divisions, and then finally the additions and subtractions.\n",
        "\n",
        "Within the same level, operators are evaluated left-to-right:"
      ]
    },
    {
      "cell_type": "code",
      "metadata": {},
      "source": [
        "print(8 - 5 + 3)"
      ],
      "execution_count": null,
      "outputs": []
    },
    {
      "cell_type": "markdown",
      "metadata": {},
      "source": [
        "There is an exception, though. Exponentiation is done right-to-left"
      ]
    },
    {
      "cell_type": "code",
      "metadata": {},
      "source": [
        "print(2 ** 3 ** 4)\n",
        "print(2 ** 81)"
      ],
      "execution_count": null,
      "outputs": []
    },
    {
      "cell_type": "markdown",
      "metadata": {},
      "source": [
        "Notice how big those numbers are?  Python (at least, all modern\n",
        "versions) represent integers with 64 bits. This will hold numbers from\n",
        "positive to negative 9 billion billon, give or take a little. If you\n",
        "want to count the atoms in a micromole, knock yourself out.\n",
        "\n",
        "Parentheses work as expected for explicitly forcing a particular order\n",
        "of operations:"
      ]
    },
    {
      "cell_type": "code",
      "metadata": {},
      "source": [
        "test_1 = 92\n",
        "test_2 = 90\n",
        "test_average = (test_1 + test_2) / 2\n",
        "print(test_average)"
      ],
      "execution_count": null,
      "outputs": []
    },
    {
      "cell_type": "markdown",
      "metadata": {},
      "source": [
        "We've been throwing those \"print\" function calls around without\n",
        "talking about them. Print will take any number of arguments, separated\n",
        "by commas, and print them out with one space between them. After the\n",
        "last item is printed, Python will put out a \"newline\" character, jump\n",
        "down, and get ready to start printing next time at the beginning of\n",
        "the next line.\n",
        "\n",
        "Variables are named \"containers\" that hold data. We've seen variables\n",
        "used as integers and as real numbers (with a decimal point and some\n",
        "digits afterwards). Variables can also hold strings:\n",
        "\n",
        "Variables in Python work similarly to Javascript, if you're familiar\n",
        "with that language."
      ]
    },
    {
      "cell_type": "code",
      "metadata": {},
      "source": [
        "first_part = \"super\"\n",
        "other_part = \"conducting\"\n",
        "sumpreme_coolness = first_part + other_part\n",
        "print(sumpreme_coolness)"
      ],
      "execution_count": null,
      "outputs": []
    },
    {
      "cell_type": "markdown",
      "metadata": {},
      "source": [
        "The \"+\" operator will concatenate (\"jam together\") two strings. Notice\n",
        "that it did not insert a space. If you need a space, you have to do it\n",
        "yourself."
      ]
    },
    {
      "cell_type": "code",
      "metadata": {},
      "source": [
        "not_as_cool = first_part + \" \" + other_part\n",
        "print(not_as_cool)"
      ],
      "execution_count": null,
      "outputs": []
    },
    {
      "cell_type": "markdown",
      "metadata": {},
      "source": [
        "A couple of things to notice... First, there are three things being\n",
        "concatenated: a variable, a string \"literal\" with only a single space\n",
        "in it, and another variable. Second, when we evaluate a cell and\n",
        "create a variable in it, those variables become available to every\n",
        "cell further down the line. (If you're curious, there is one instance\n",
        "of Python running behind the scenes. Jupyter just crams code into when\n",
        "you execute a cell. When Python is done running that, any output is\n",
        "put into the notebook right below that block. Running another command\n",
        "later, in another cell, sends that code to the one and only Python\n",
        "instance associated with the entire notebook. There is no need to\n",
        "write insanely long cells, and in fact you should keep them 30-50\n",
        "lines at most if you can. Shorter cells are easier to understand and\n",
        "debug.\n",
        "    \n",
        "Python has the same control structures you're used to, it's just that\n",
        "syntax is a little different now."
      ]
    },
    {
      "cell_type": "code",
      "metadata": {},
      "source": [
        "if 5 > 4 :\n",
        "    print(\"arithmetic still works!\")\n",
        "    print(\"now back to the show!\")\n",
        "else:\n",
        "    print(\"it appears we have shifted universes for a few minutes.\")\n",
        "    print(\"I have a feeling this will be bad.\")"
      ],
      "execution_count": null,
      "outputs": []
    },
    {
      "cell_type": "markdown",
      "metadata": {},
      "source": [
        "Notice that there is no \"then\". Notice that there **is** a colon at\n",
        "the end of the \"if\" line. A colon indicates that a \"code block\" is\n",
        "coming up. In our case, these blocks are two lines long. They have to\n",
        "be indented, and they have to be indented the same amount. In Python,\n",
        "indentation has meaning. The \"visual\" level that things are indented\n",
        "to indicates the \"lexical\" level of the code block.\n",
        "\n",
        "Python has loops, as expected:"
      ]
    },
    {
      "cell_type": "code",
      "metadata": {},
      "source": [
        "weight = 6.0\n",
        "\n",
        "while weight < 11.2:\n",
        "    print(\"running inside the loop!\")\n",
        "    weight = weight + 4\n",
        "\n",
        "print(\"done with the loop now.\")"
      ],
      "execution_count": null,
      "outputs": []
    },
    {
      "cell_type": "markdown",
      "metadata": {},
      "source": [
        "While loops are very versatile (you can test anything to see if you\n",
        "should continue) but sometimes you know how many times you want to do\n",
        "something and you want a \"cleaner\" way to express that."
      ]
    },
    {
      "cell_type": "code",
      "metadata": {},
      "source": [
        "for i in range(1,6):\n",
        "    print(i)\n",
        "    \n",
        "if i == 5:\n",
        "    print(\"we got to 5, like we expected!! Surprise!!\")\n",
        "else:\n",
        "    print(\"hmmm...\")\n"
      ],
      "execution_count": null,
      "outputs": []
    },
    {
      "cell_type": "markdown",
      "metadata": {},
      "source": [
        "Notice something funny above: when testing for equality, Phython uses\n",
        "two equals signs stuck together with no space between them. This is\n",
        "just like Java, Javascript, C, C++...\n",
        "\n",
        "Notice something else: we specified the range to be from one\n",
        "to... well, we said six, but it stopped after five. That's how range\n",
        "works: you specify the number to start at and the number that is the\n",
        "first one you want it to stop at **and not run the associated code\n",
        "block**. I guarantee you either you'll mess this up or you'll have to\n",
        "read code written by someone else that has that mistake. I do it all\n",
        "the time.\n",
        "\n",
        "While we're on the subject of \"equals sign strangeness\", Python has a\n",
        "shortcut for using the value of variable, changing it, and storing it\n",
        "back in the same variable."
      ]
    },
    {
      "cell_type": "code",
      "metadata": {},
      "source": [
        "# you could do this\n",
        "weight = 6\n",
        "weight = weight + 4\n",
        "print(weight)\n",
        "# or you could do this\n",
        "weight = 6\n",
        "weight += 4\n",
        "print(weight)"
      ],
      "execution_count": null,
      "outputs": []
    },
    {
      "cell_type": "markdown",
      "metadata": {},
      "source": [
        "Along with the \"+=\" operator, there is also ``-=``, ``*=``, and ``/=``\n",
        "\n",
        "Hey, look at that line above... notice that little quoted parts of the\n",
        "code are in gray boxes?  Any part of your Markdown that occurs between\n",
        "two \"backquotes\" is shown specially.\n",
        "\n",
        "Also, did you notice the lines in the cell above that started with a\n",
        "\"#\"?  That character means \"everything on tghe rest of the line is\n",
        "just a note to myself and should not be run\". These \"comments\" are\n",
        "very valuable for reminding yourself what's going on when you come\n",
        "back to your code three months later and you can't remember anything.\n",
        "\n",
        "Back to \"for\" loops for a minute. These loops can also iterate over a\n",
        "list:"
      ]
    },
    {
      "cell_type": "code",
      "metadata": {},
      "source": [
        "for color in [ \"red\", \"green\", \"blue\"] :\n",
        "              print(color)"
      ],
      "execution_count": null,
      "outputs": []
    },
    {
      "cell_type": "markdown",
      "metadata": {},
      "source": [
        "In fact, the \"range\" function is used to build a list of values and\n",
        "then the ``for`` loop steps over it.\n",
        "\n",
        "(Don't worry - I lied. But conceptually that's what happens. Behind\n",
        "the scenes, Python detects when a for loop is stepping through a range\n",
        "function and it behaves like Java or C - nice and efficiently.)\n",
        "\n",
        "That list of colors is interesting, isn't it? Besides integers, real\n",
        "numbers, and strings, Python has some other built-in data types. One\n",
        "of these is the list.\n",
        "\n",
        "When writing out a list, surround it with square brackets (as\n",
        "above). Separate the individual list items with commas. Notice\n",
        "something cool (or dangerous, depending on your point of view: lists\n",
        "don't have to contain just all one type of data. You can mix them in\n",
        "the same list:"
      ]
    },
    {
      "cell_type": "code",
      "metadata": {},
      "source": [
        "funny_stuff = [13, 19, 44, \"Bob Hope\", 16]"
      ],
      "execution_count": null,
      "outputs": []
    },
    {
      "cell_type": "markdown",
      "metadata": {},
      "source": [
        "That is a list of 5 things: three numbers, a string, and one more\n",
        "number.  We can access individual elements with \"array indexing\":"
      ]
    },
    {
      "cell_type": "code",
      "metadata": {},
      "source": [
        "print(funny_stuff[0])\n",
        "print(funny_stuff[1])\n",
        "print(funny_stuff[2])\n",
        "print(funny_stuff[3])\n",
        "print(funny_stuff[4])"
      ],
      "execution_count": null,
      "outputs": []
    },
    {
      "cell_type": "markdown",
      "metadata": {},
      "source": [
        "Like basically every language except Fortran, Python lists store their\n",
        "first value at index zero, not one! This trips up everyone sooner or\n",
        "later. Sometimes miore than once. Sometimes more than once a minute.\n",
        "\n",
        "Now you know just enough Python to be dangerous. An excellent tutorial\n",
        "on the language is available at\n",
        "https://docs.python.org/3/tutorial/index.html and I recommend you\n",
        "bookmark that for handy reference.\n",
        "\n",
        "Now that we're at least a threat to ourselves, if not others, let's go\n",
        "to the \"Modules\" notebook and see why Python has taken over the world.\n"
      ]
    }
  ],
  "metadata": {
    "kernelspec": {
      "display_name": "Python 3",
      "language": "python",
      "name": "python3"
    }
  },
  "nbformat": 4,
  "nbformat_minor": 4
}